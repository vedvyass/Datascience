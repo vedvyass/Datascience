{
 "cells": [
  {
   "cell_type": "markdown",
   "id": "0e0348bc-f53c-42c2-8b4d-c98d8caa98e8",
   "metadata": {},
   "source": [
    "# Data Science Tools and Ecosystem"
   ]
  },
  {
   "cell_type": "markdown",
   "id": "93d758e1-2f9d-40c0-bd24-d4f22aa28209",
   "metadata": {},
   "source": [
    "In this notebook,I have summarized Data Science Tools and Ecosystem."
   ]
  },
  {
   "cell_type": "markdown",
   "id": "eb40c2b3-acc9-4601-ba6c-77e3260185d1",
   "metadata": {},
   "source": [
    "Some of the popular languages that Data Scientists use are:  \n",
    "\n",
    "1. Python  \n",
    "2. R  \n",
    "3. SQL  \n",
    "4. Julia  \n",
    "5. Scala  \n"
   ]
  },
  {
   "cell_type": "markdown",
   "id": "026e8e16-091b-4589-a38a-40839cacc1b7",
   "metadata": {},
   "source": [
    "Some of the commonly used libraries used by Data Scientists include:  \n",
    "\n",
    "1. NumPy  \n",
    "2. Pandas  \n",
    "3. Matplotlib  \n",
    "4. Scikit-learn  \n",
    "5. TensorFlow"
   ]
  },
  {
   "cell_type": "markdown",
   "id": "a6efeb46-b1ab-4590-b9c7-0f6a0ce17c23",
   "metadata": {},
   "source": [
    "Some of the commonly used Data Science tools are:  \n",
    "| Data Science Tools |  \n",
    "|--------------------|  \n",
    "| Jupyter Notebook  |  \n",
    "| RStudio           |  \n",
    "| VS studio   |  "
   ]
  },
  {
   "cell_type": "markdown",
   "id": "ea6a96b1-048e-4f56-b131-2500408c307d",
   "metadata": {},
   "source": [
    "### Below are a few examples of evaluating arithmetic expressions in Python.\n"
   ]
  },
  {
   "cell_type": "code",
   "execution_count": 10,
   "id": "ce4ad4a0-9d65-4cb9-9807-459ef0f63d2a",
   "metadata": {},
   "outputs": [
    {
     "data": {
      "text/plain": [
       "17"
      ]
     },
     "execution_count": 10,
     "metadata": {},
     "output_type": "execute_result"
    }
   ],
   "source": [
    "# This is a simple arithmetic expression to multiply then add integers.\n",
    "(3 * 4) + 5\n"
   ]
  },
  {
   "cell_type": "code",
   "execution_count": 11,
   "id": "0629df40-2206-410c-b7d7-fa9c43dbf244",
   "metadata": {},
   "outputs": [
    {
     "data": {
      "text/plain": [
       "3.3333333333333335"
      ]
     },
     "execution_count": 11,
     "metadata": {},
     "output_type": "execute_result"
    }
   ],
   "source": [
    "# This will convert 200 minutes to hours by dividing by 60.\n",
    "200 / 60"
   ]
  },
  {
   "cell_type": "markdown",
   "id": "c566df1a-6b8f-4922-a688-fc03c067a829",
   "metadata": {},
   "source": [
    "**Objectives:**  \n",
    "\n",
    "- List of popular languages for Data Science.\n",
    "- Identifying commonly used libraries in Data Science.\n",
    "- Exploring common Data Science tools.  \n",
    "- Evaluating arithmetic expressions in Python.\n",
    "- Converting time units using Python expressions.\n"
   ]
  },
  {
   "cell_type": "markdown",
   "id": "9c6352c2-9554-4767-a911-a9b5bcdf8ac3",
   "metadata": {},
   "source": [
    "## Author  \n",
    "\n",
    "Dwaipayan Das \n"
   ]
  },
  {
   "cell_type": "code",
   "execution_count": null,
   "id": "27446d06-ecbf-4e21-884d-25af73ebbe3f",
   "metadata": {},
   "outputs": [],
   "source": []
  }
 ],
 "metadata": {
  "kernelspec": {
   "display_name": "Python 3 (ipykernel)",
   "language": "python",
   "name": "python3"
  },
  "language_info": {
   "codemirror_mode": {
    "name": "ipython",
    "version": 3
   },
   "file_extension": ".py",
   "mimetype": "text/x-python",
   "name": "python",
   "nbconvert_exporter": "python",
   "pygments_lexer": "ipython3",
   "version": "3.13.2"
  }
 },
 "nbformat": 4,
 "nbformat_minor": 5
}
